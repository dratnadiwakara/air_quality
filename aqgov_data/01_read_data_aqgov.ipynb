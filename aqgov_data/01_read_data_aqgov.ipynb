{
 "cells": [
  {
   "cell_type": "code",
   "execution_count": 2,
   "id": "initial_id",
   "metadata": {
    "collapsed": true,
    "ExecuteTime": {
     "end_time": "2024-02-10T15:36:37.320631300Z",
     "start_time": "2024-02-10T15:36:31.272735600Z"
    }
   },
   "outputs": [
    {
     "name": "stderr",
     "output_type": "stream",
     "text": [
      "C:\\Users\\dratnadiwakara2\\AppData\\Local\\Temp\\ipykernel_5964\\3374513314.py:3: DeprecationWarning: \n",
      "Pyarrow will become a required dependency of pandas in the next major release of pandas (pandas 3.0),\n",
      "(to allow more performant data types, such as the Arrow string type, and better interoperability with other libraries)\n",
      "but was not found to be installed on your system.\n",
      "If this would cause problems for you,\n",
      "please provide us feedback at https://github.com/pandas-dev/pandas/issues/54466\n",
      "        \n",
      "  import pandas as pd\n"
     ]
    }
   ],
   "source": [
    "import requests\n",
    "from api_data import *\n",
    "import pandas as pd\n",
    "import os\n",
    "from tqdm import tqdm"
   ]
  },
  {
   "cell_type": "code",
   "execution_count": 3,
   "outputs": [],
   "source": [
    "\n",
    "state_fips_list = [ '06','28','29', '30', '01', '02', '03', '04', '05', '07', '08', '09', '10', '11', '12', '13', '14', '15', '16', '17', '18', '19', '20',  '21', '22', '23', '24', '25', '26', '27',\n",
    "                   '31', '32', '33', '34', '35', '36', '37', '38', '39', '40',\n",
    "                   '41', '42', '43', '44', '45', '46', '47', '48', '49', '50',\n",
    "                   '51', '52', '53', '54', '55', '56']"
   ],
   "metadata": {
    "collapsed": false
   },
   "id": "b6a1b1acb8ff98e7"
  },
  {
   "cell_type": "markdown",
   "source": [
    "# Daily Data From 2021 to 2024"
   ],
   "metadata": {
    "collapsed": false
   },
   "id": "af4078216f5a03c"
  },
  {
   "cell_type": "code",
   "execution_count": 4,
   "outputs": [],
   "source": [
    "base_url = \"https://aqs.epa.gov/data/api/dailyData/byCounty\"\n",
    "params = {\n",
    "    \"email\": email,\n",
    "    \"key\": key,\n",
    "    \"param\": \"88101\",\n",
    "}"
   ],
   "metadata": {
    "collapsed": false,
    "ExecuteTime": {
     "end_time": "2024-02-10T15:36:44.520383700Z",
     "start_time": "2024-02-10T15:36:44.490953400Z"
    }
   },
   "id": "3bbc31d4c0b82fc6"
  },
  {
   "cell_type": "code",
   "execution_count": 9,
   "outputs": [
    {
     "name": "stderr",
     "output_type": "stream",
     "text": [
      "100%|██████████| 3/3 [2:51:53<00:00, 3437.71s/it]\n"
     ]
    }
   ],
   "source": [
    "yrs = ['2021','2022','2023','2024']\n",
    "file_path = '../data/county_daily_2021_2023.csv'\n",
    "\n",
    "with tqdm(total=len(state_fips_list) ) as pbar:\n",
    "    for state in state_fips_list:\n",
    "        pbar.update(1)\n",
    "        url = 'https://aqs.epa.gov/data/api/list/countiesByState?email='+email+'&key='+key+'&state='+state\n",
    "        response = requests.get(url)\n",
    "        data = response.json()\n",
    "        counties = [item['code'] for item in data['Data']]\n",
    "        outer_loop_label = \"outer\"\n",
    "        for county in counties:\n",
    "            for yr in yrs:\n",
    "                params['bdate'] = yr+\"0101\"\n",
    "                params['edate'] = yr+\"1231\"\n",
    "                params['state'] = state\n",
    "                params['county'] = county\n",
    "                response = requests.get(base_url, params=params)\n",
    "                data = response.json()\n",
    "                df = pd.DataFrame(data['Data'])\n",
    "                if len(df)==0:\n",
    "                    break\n",
    "                    \n",
    "                mean_aqi_df = df.groupby(['state_code', 'county_code', 'date_local'])['aqi'].mean().reset_index()\n",
    "                \n",
    "                if os.path.isfile(file_path):\n",
    "                    header_option = False  \n",
    "                else:\n",
    "                    header_option = True  \n",
    "    \n",
    "                mean_aqi_df.to_csv(file_path, mode='a', header=header_option, index=False)\n",
    "\n",
    "    "
   ],
   "metadata": {
    "collapsed": false,
    "ExecuteTime": {
     "end_time": "2024-02-11T14:33:11.781733300Z",
     "start_time": "2024-02-11T11:41:18.640146600Z"
    }
   },
   "id": "daff5023dd591c52"
  },
  {
   "cell_type": "code",
   "execution_count": 11,
   "outputs": [],
   "source": [
    "df = pd.read_csv(file_path)"
   ],
   "metadata": {
    "collapsed": false,
    "ExecuteTime": {
     "end_time": "2024-02-11T15:17:13.888208500Z",
     "start_time": "2024-02-11T15:17:13.597102100Z"
    }
   },
   "id": "6289d434815f537b"
  },
  {
   "cell_type": "code",
   "execution_count": 1,
   "outputs": [
    {
     "ename": "NameError",
     "evalue": "name 'state' is not defined",
     "output_type": "error",
     "traceback": [
      "\u001B[1;31m---------------------------------------------------------------------------\u001B[0m",
      "\u001B[1;31mNameError\u001B[0m                                 Traceback (most recent call last)",
      "Cell \u001B[1;32mIn[1], line 1\u001B[0m\n\u001B[1;32m----> 1\u001B[0m \u001B[43mstate\u001B[49m\n",
      "\u001B[1;31mNameError\u001B[0m: name 'state' is not defined"
     ]
    }
   ],
   "source": [
    "state"
   ],
   "metadata": {
    "collapsed": false,
    "ExecuteTime": {
     "end_time": "2024-02-10T15:35:25.014711600Z",
     "start_time": "2024-02-10T15:35:24.539779200Z"
    }
   },
   "id": "51299bfb55c8e6dd"
  }
 ],
 "metadata": {
  "kernelspec": {
   "display_name": "Python 3",
   "language": "python",
   "name": "python3"
  },
  "language_info": {
   "codemirror_mode": {
    "name": "ipython",
    "version": 2
   },
   "file_extension": ".py",
   "mimetype": "text/x-python",
   "name": "python",
   "nbconvert_exporter": "python",
   "pygments_lexer": "ipython2",
   "version": "2.7.6"
  }
 },
 "nbformat": 4,
 "nbformat_minor": 5
}
